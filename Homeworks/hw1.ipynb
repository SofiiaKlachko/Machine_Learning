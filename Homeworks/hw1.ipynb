{
  "metadata": {
    "language_info": {
      "codemirror_mode": {
        "name": "python",
        "version": 3
      },
      "file_extension": ".py",
      "mimetype": "text/x-python",
      "name": "python",
      "nbconvert_exporter": "python",
      "pygments_lexer": "ipython3",
      "version": "3.8"
    },
    "kernelspec": {
      "name": "python",
      "display_name": "Pyolite",
      "language": "python"
    }
  },
  "nbformat_minor": 4,
  "nbformat": 4,
  "cells": [
    {
      "cell_type": "code",
      "source": "import numpy as np\nimport time\nimport random",
      "metadata": {
        "trusted": true
      },
      "execution_count": 1,
      "outputs": []
    },
    {
      "cell_type": "code",
      "source": "rows=3\ncol=3",
      "metadata": {
        "trusted": true
      },
      "execution_count": 2,
      "outputs": []
    },
    {
      "cell_type": "code",
      "source": "def Matrix(rows,col):   #створення матриці\n    matrix=[]\n    for i in range(rows):\n        matrix.append([])\n        for j in range(col):\n             matrix[i].append(random.randint(1, 100))                \n    return matrix",
      "metadata": {
        "trusted": true
      },
      "execution_count": 3,
      "outputs": []
    },
    {
      "cell_type": "code",
      "source": "X = Matrix(rows,col)\nY = Matrix(rows,col)",
      "metadata": {
        "trusted": true
      },
      "execution_count": 4,
      "outputs": []
    },
    {
      "cell_type": "code",
      "source": "Xnp = np.array(X)\nYnp = np.array(Y)",
      "metadata": {
        "trusted": true
      },
      "execution_count": 5,
      "outputs": []
    },
    {
      "cell_type": "code",
      "source": "#множення матриць\nstartTime = time.time()\nresult = [[sum(a*b for a,b in zip(X_rows,Y_col)) for Y_col in zip(*Y)] for X_rows in X]\nMultTime=time.time() - startTime\nprint(\"Час множення матриць: {:.9f} seconds\" .format(MultTime))\n\n#множення матриць за допомогою numpy\nstartNP = time.time()\nMultNumpy= np.dot(Xnp,Ynp)\nNumPyTime=time.time() - startNP\nprint(\"Час множення матриць за допомогою numpy: {:.9f} seconds\" .format(NumPyTime))",
      "metadata": {
        "trusted": true
      },
      "execution_count": 6,
      "outputs": [
        {
          "name": "stdout",
          "text": "Час множення матриць: 0.001000166 seconds\nЧас множення матриць за допомогою numpy: 0.000999928 seconds\n",
          "output_type": "stream"
        }
      ]
    },
    {
      "cell_type": "code",
      "source": "",
      "metadata": {},
      "execution_count": null,
      "outputs": []
    }
  ]
}